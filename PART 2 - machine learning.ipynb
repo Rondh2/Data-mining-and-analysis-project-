{
 "cells": [
  {
   "cell_type": "code",
   "execution_count": 650,
   "id": "2689acca-3b0b-47cd-8471-b00a9b779872",
   "metadata": {},
   "outputs": [],
   "source": [
    "import pandas as pd\n",
    "import numpy as np\n",
    "from sklearn.model_selection import train_test_split, cross_val_score\n",
    "from sklearn.preprocessing import OneHotEncoder, StandardScaler\n",
    "from sklearn.metrics import make_scorer, root_mean_squared_error\n",
    "from sklearn.linear_model import LinearRegression\n",
    "from sklearn.linear_model import ElasticNet\n",
    "import re\n",
    "from datetime import datetime"
   ]
  },
  {
   "cell_type": "code",
   "execution_count": null,
   "id": "10d5e9f7-48b9-4915-8815-cbe43ab2c1c2",
   "metadata": {},
   "outputs": [],
   "source": [
    "file_train_set = pd.read_csv()\n",
    "file_test_set = pd.read_csv()"
   ]
  },
  {
   "cell_type": "code",
   "execution_count": null,
   "id": "58f58083-56f6-4ec9-a598-4296bd1aa453",
   "metadata": {},
   "outputs": [],
   "source": [
    "train_set = prepare_data(file_train_set)\n",
    "test_set = prepare_data(file_test_set)"
   ]
  },
  {
   "cell_type": "code",
   "execution_count": 641,
   "id": "d05dd608-4e55-436a-89d2-f51b5a0903a5",
   "metadata": {},
   "outputs": [],
   "source": [
    "X_train = train_set.drop(columns=['Price']) \n",
    "y_train = train_set['Price'] \n",
    "X_test = test_set.drop(columns=['Price']) \n",
    "y_test = test_set['Price'] "
   ]
  },
  {
   "cell_type": "code",
   "execution_count": 642,
   "id": "c43e4229-10c4-4fb0-85c8-7b0560510bf1",
   "metadata": {},
   "outputs": [],
   "source": [
    "def prepare_data(df):\n",
    "    #Data arrangement\n",
    "    df['capacity_Engine'] = df['capacity_Engine'].replace('None', np.nan)\n",
    "    df['capacity_Engine'] = df['capacity_Engine'].str.replace(',', '')\n",
    "    df['Km'] = df['Km'].replace('None', np.nan)\n",
    "    df['Km'] = df['Km'].str.replace(',', '')\n",
    "    df['capacity_Engine'] = df['capacity_Engine'].fillna(0)\n",
    "    df['Pic_num'] = df['Pic_num'].fillna(0)\n",
    "    df = df.drop(columns=['Test','Supply_score','Cre_date','Repub_date','Area','Description'])\n",
    "    \n",
    "    def clean_model_column(row):\n",
    "        manufactor = row['manufactor']\n",
    "        model = row['model']\n",
    "        model = re.sub(r'\\b' + re.escape(manufactor) + r'\\b', '', model, flags=re.IGNORECASE)\n",
    "        model = re.sub(r'\\(\\d{4}\\)', '', model)\n",
    "        model = re.sub(r'\\b\\d{4}\\b', '', model)\n",
    "        model = re.sub(r',', '', model)\n",
    "        model = model.strip()\n",
    "    \n",
    "        return model\n",
    "\n",
    "    df.loc[:,'model']= df.apply(clean_model_column, axis=1)\n",
    "    \n",
    "    #arranging types\n",
    "    df['Year'] = df['Year'].astype(int)\n",
    "    df['Hand'] = df['Hand'].astype(int)\n",
    "    df['Gear'] = df['Gear'].astype('category')\n",
    "    df['capacity_Engine'] = df['capacity_Engine'].astype(int)\n",
    "    df['Engine_type'] = df['Engine_type'].astype('category')\n",
    "    df['Engine_type'] = df['Engine_type'].astype('category')\n",
    "    df['Prev_ownership'] = df['Prev_ownership'].astype('category')\n",
    "    df['Curr_ownership'] = df['Curr_ownership'].astype('category')\n",
    "    df['City'] = df['City'].astype('string')\n",
    "    df['Price'] = df['Price'].astype('float64')\n",
    "    df['Pic_num'] = df['Pic_num'].astype(int)\n",
    "    \n",
    "    #Filling in missing values\n",
    "    df['Engine_type'].fillna('בנזין', inplace=True)\n",
    "    df['Gear'].fillna('אוטומטית', inplace=True)\n",
    "    df['Prev_ownership'].fillna('פרטית', inplace=True)\n",
    "    df['Curr_ownership'].fillna('פרטית', inplace=True)\n",
    "\n",
    "    #Calculation of KM according to the annual average of a vehicle in Israel\n",
    "    current_year = datetime.now().year\n",
    "    df['difference'] = current_year - df['Year']\n",
    "    df['Km'].fillna(df['difference'] * 15000, inplace=True)\n",
    "    df.drop(columns=['difference'], inplace=True)\n",
    "    \n",
    "    #One-Hot Encoding\n",
    "    columns_to_encode = ['Color', 'manufactor', 'model', 'Gear', 'Engine_type', 'Prev_ownership', 'Curr_ownership', 'City']\n",
    "\n",
    "    encoder = OneHotEncoder(handle_unknown='ignore', sparse_output=False)\n",
    "    encoded_features = encoder.fit_transform(df[columns_to_encode])\n",
    "    encoded_df = pd.DataFrame(encoded_features, columns=encoder.get_feature_names_out(columns_to_encode))\n",
    "    df = df.drop(columns_to_encode, axis=1).reset_index(drop=True)\n",
    "    df = pd.concat([df, encoded_df], axis=1)\n",
    "    # scaling \n",
    "    scaler = StandardScaler()  \n",
    "    columns_to_scale = ['Year', 'Hand', 'capacity_Engine', 'Pic_num', 'Km']\n",
    "    df[columns_to_scale] = scaler.fit_transform(df[columns_to_scale])\n",
    "    \n",
    "    \n",
    "    return df"
   ]
  },
  {
   "cell_type": "code",
   "execution_count": 645,
   "id": "0fd77028-4a4f-4711-b120-e6e59b0dd5b3",
   "metadata": {
    "tags": []
   },
   "outputs": [],
   "source": [
    "model = ElasticNet(alpha=0.1, l1_ratio=0.9)\n",
    "\n",
    "def rmse(y_true, y_pred):\n",
    "    return np.sqrt(mean_squared_error(y_true, y_pred))\n",
    "\n",
    "# Define the cross-validation procedure\n",
    "cv = KFold(n_splits=10, random_state=42, shuffle=True)\n",
    "\n",
    "# Define the scoring method\n",
    "scoring = make_scorer(rmse, greater_is_better=False)\n",
    "\n",
    "# Perform cross-validation\n",
    "cv_scores = cross_val_score(model, X_test, y_test, cv=cv, scoring=scoring)\n",
    "\n",
    "# Convert the negative RMSE scores to positive by taking the absolute value\n",
    "cv_scores = np.abs(cv_scores)"
   ]
  },
  {
   "cell_type": "code",
   "execution_count": 646,
   "id": "21e0ebe9-f9de-4141-b048-de109a5f93bb",
   "metadata": {},
   "outputs": [
    {
     "data": {
      "text/html": [
       "<div>\n",
       "<style scoped>\n",
       "    .dataframe tbody tr th:only-of-type {\n",
       "        vertical-align: middle;\n",
       "    }\n",
       "\n",
       "    .dataframe tbody tr th {\n",
       "        vertical-align: top;\n",
       "    }\n",
       "\n",
       "    .dataframe thead th {\n",
       "        text-align: right;\n",
       "    }\n",
       "</style>\n",
       "<table border=\"1\" class=\"dataframe\">\n",
       "  <thead>\n",
       "    <tr style=\"text-align: right;\">\n",
       "      <th></th>\n",
       "      <th>Original_Feature</th>\n",
       "      <th>Total_Coefficient</th>\n",
       "      <th>Absolute_Coefficient</th>\n",
       "      <th>Influence_Type</th>\n",
       "    </tr>\n",
       "  </thead>\n",
       "  <tbody>\n",
       "    <tr>\n",
       "      <th>0</th>\n",
       "      <td>City</td>\n",
       "      <td>261.016057</td>\n",
       "      <td>327422.401536</td>\n",
       "      <td>Positive</td>\n",
       "    </tr>\n",
       "    <tr>\n",
       "      <th>1</th>\n",
       "      <td>Color</td>\n",
       "      <td>54.895487</td>\n",
       "      <td>67888.266631</td>\n",
       "      <td>Positive</td>\n",
       "    </tr>\n",
       "    <tr>\n",
       "      <th>2</th>\n",
       "      <td>Curr</td>\n",
       "      <td>8.996580</td>\n",
       "      <td>15539.532476</td>\n",
       "      <td>Positive</td>\n",
       "    </tr>\n",
       "    <tr>\n",
       "      <th>3</th>\n",
       "      <td>Engine</td>\n",
       "      <td>8.999369</td>\n",
       "      <td>25859.229043</td>\n",
       "      <td>Positive</td>\n",
       "    </tr>\n",
       "    <tr>\n",
       "      <th>4</th>\n",
       "      <td>Gear</td>\n",
       "      <td>17.942849</td>\n",
       "      <td>13236.318084</td>\n",
       "      <td>Positive</td>\n",
       "    </tr>\n",
       "  </tbody>\n",
       "</table>\n",
       "</div>"
      ],
      "text/plain": [
       "  Original_Feature  Total_Coefficient  Absolute_Coefficient Influence_Type\n",
       "0             City         261.016057         327422.401536       Positive\n",
       "1            Color          54.895487          67888.266631       Positive\n",
       "2             Curr           8.996580          15539.532476       Positive\n",
       "3           Engine           8.999369          25859.229043       Positive\n",
       "4             Gear          17.942849          13236.318084       Positive"
      ]
     },
     "execution_count": 646,
     "metadata": {},
     "output_type": "execute_result"
    }
   ],
   "source": [
    "model.fit(X_train, y_train)\n",
    "\n",
    "# Get the coefficients and feature names\n",
    "coefficients = model.coef_\n",
    "feature_names = X_train.columns\n",
    "\n",
    "# Create a DataFrame to hold feature names and their corresponding coefficients\n",
    "coeff_df = pd.DataFrame({\n",
    "    'Feature': feature_names,\n",
    "    'Coefficient': coefficients\n",
    "})\n",
    "\n",
    "# Aggregate the coefficients back to the original features\n",
    "# Create a dictionary to map encoded feature names to their original feature names\n",
    "encoded_to_original = {v: v.split('_')[0] for v in feature_names}\n",
    "\n",
    "# Map the coefficients to the original feature names\n",
    "coeff_df['Original_Feature'] = coeff_df['Feature'].map(encoded_to_original)\n",
    "\n",
    "# Sum the coefficients for each original feature and determine positive or negative influence\n",
    "coeff_df['Positive_Influence'] = coeff_df['Coefficient'] > 0\n",
    "aggregated_coeff_df = coeff_df.groupby('Original_Feature').agg(\n",
    "    Total_Coefficient=('Coefficient', 'sum'),\n",
    "    Absolute_Coefficient=('Coefficient', lambda x: x.abs().sum())\n",
    ").reset_index()\n",
    "\n",
    "aggregated_coeff_df['Influence_Type'] = aggregated_coeff_df['Total_Coefficient'].apply(lambda x: 'Positive' if x > 0 else 'Negative')\n",
    "\n",
    "top_5_features = aggregated_coeff_df.head(5)\n",
    "\n",
    "top_5_features"
   ]
  },
  {
   "cell_type": "markdown",
   "id": "ec1d73a7-b428-4e0c-bccb-f674d5fb8025",
   "metadata": {},
   "source": [
    "## Results"
   ]
  },
  {
   "cell_type": "code",
   "execution_count": 649,
   "id": "037b2aa2-5bfe-4f66-8b4f-c25eee03ab9f",
   "metadata": {
    "collapsed": true,
    "jupyter": {
     "outputs_hidden": true
    },
    "tags": []
   },
   "outputs": [
    {
     "name": "stdout",
     "output_type": "stream",
     "text": [
      "Cross-validation RMSE scores:  [12643.46607627 14054.42869987 14852.18500311 14045.58340554\n",
      " 15301.03793817 19137.78180734 13133.8760071  18115.63989836\n",
      " 13656.84596782 16072.58349375]\n",
      "Mean RMSE:  15101.342829734003\n"
     ]
    }
   ],
   "source": [
    "print(\"Cross-validation RMSE scores: \", cv_scores)\n",
    "print(\"Mean RMSE: \", cv_scores.mean())"
   ]
  }
 ],
 "metadata": {
  "kernelspec": {
   "display_name": "Python 3 (ipykernel)",
   "language": "python",
   "name": "python3"
  },
  "language_info": {
   "codemirror_mode": {
    "name": "ipython",
    "version": 3
   },
   "file_extension": ".py",
   "mimetype": "text/x-python",
   "name": "python",
   "nbconvert_exporter": "python",
   "pygments_lexer": "ipython3",
   "version": "3.10.2"
  }
 },
 "nbformat": 4,
 "nbformat_minor": 5
}
